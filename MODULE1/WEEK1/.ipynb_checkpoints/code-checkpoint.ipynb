{
 "cells": [
  {
   "cell_type": "markdown",
   "id": "54e52bc8-29db-4e0f-9b0b-a88c56c5aad3",
   "metadata": {},
   "source": [
    "# <center> **EXERCISE MODULE 1- [Week 1 - 01/06/2024]**"
   ]
  },
  {
   "cell_type": "markdown",
   "id": "80b55bcf-1c41-43cc-a029-94e330559a92",
   "metadata": {},
   "source": [
    "### **I.CÂU HỎI TỰ LUẬN**"
   ]
  },
  {
   "cell_type": "code",
   "execution_count": 1,
   "id": "a6d06f55-f447-4fb7-8ef0-61adfdaf357a",
   "metadata": {},
   "outputs": [
    {
     "name": "stdout",
     "output_type": "stream",
     "text": [
      "Print single variable (var1):  str_var1\n",
      "Print more than one variables: var1=str_var1, var2=3, var3=15.5\n"
     ]
    }
   ],
   "source": [
    "# Examples\n",
    "var1 = 'str_var1'\n",
    "var2 = 3\n",
    "var3 = 15.5\n",
    "print('Print single variable (var1): ', var1)\n",
    "print(f'Print more than one variables: var1={var1}, var2={var2}, var3={var3}')"
   ]
  },
  {
   "cell_type": "markdown",
   "id": "38d2edde-2971-4e78-8380-dbc72cb615ef",
   "metadata": {},
   "source": [
    "### **I.1**"
   ]
  },
  {
   "cell_type": "code",
   "execution_count": 18,
   "id": "807548d2-340a-4a89-8c2b-a217d87568f0",
   "metadata": {},
   "outputs": [],
   "source": [
    "def exercise1(tp, fp, fn):\n",
    "    if type(tp) == int and type(fp) == int and type(fn) == int and tp > 0 and fp > 0 and fn > 0:\n",
    "        precision = tp / (tp + fp)\n",
    "        recall = tp / (tp + fn)\n",
    "        f1_score = 2 * ((precision * recall) / (precision + recall))\n",
    "\n",
    "        print('precision is ', precision)\n",
    "        print('recall is ', recall)\n",
    "        print('f1-score is ', f1_score)\n",
    "    elif type(tp) != int:\n",
    "        print(\"tp must be int\")\n",
    "    elif type(fp) != int:\n",
    "        print(\"fp must be int\")\n",
    "    elif type(fn) != int:\n",
    "        print(\"fn must be int\")\n",
    "    elif tp <= 0 or fp <= 0 or fn <= 0:\n",
    "        print(\"tp and fp and fn must be greater than zero\")"
   ]
  },
  {
   "cell_type": "code",
   "execution_count": 19,
   "id": "e105a0ae-3465-41bc-aa8d-2362bc8b757f",
   "metadata": {},
   "outputs": [
    {
     "name": "stdout",
     "output_type": "stream",
     "text": [
      "precision is  0.4\n",
      "recall is  0.3333333333333333\n",
      "f1-score is  0.3636363636363636\n"
     ]
    }
   ],
   "source": [
    "exercise1(tp=2, fp=3 , fn=4)"
   ]
  },
  {
   "cell_type": "code",
   "execution_count": 20,
   "id": "c940bca9-fd68-4c8e-952f-1dde1a3740ea",
   "metadata": {},
   "outputs": [
    {
     "name": "stdout",
     "output_type": "stream",
     "text": [
      "tp must be int\n"
     ]
    }
   ],
   "source": [
    "exercise1(tp='a', fp=3 , fn=4)"
   ]
  },
  {
   "cell_type": "code",
   "execution_count": 21,
   "id": "a22cbca5-5d53-4226-a6ee-631135785bdb",
   "metadata": {},
   "outputs": [
    {
     "name": "stdout",
     "output_type": "stream",
     "text": [
      "fp must be int\n"
     ]
    }
   ],
   "source": [
    "exercise1(tp=2, fp='a' , fn=4)"
   ]
  },
  {
   "cell_type": "code",
   "execution_count": 22,
   "id": "a7e5987a-4b21-4ef7-9e9b-cae628ddde78",
   "metadata": {},
   "outputs": [
    {
     "name": "stdout",
     "output_type": "stream",
     "text": [
      "fn must be int\n"
     ]
    }
   ],
   "source": [
    "exercise1(tp=2, fp=3 , fn='a')"
   ]
  },
  {
   "cell_type": "code",
   "execution_count": 23,
   "id": "ee9be140-e0ba-4cd1-a524-589ffca539b8",
   "metadata": {},
   "outputs": [
    {
     "name": "stdout",
     "output_type": "stream",
     "text": [
      "tp and fp and fn must be greater than zero\n"
     ]
    }
   ],
   "source": [
    "exercise1(tp=2, fp=3 , fn=0)"
   ]
  },
  {
   "cell_type": "code",
   "execution_count": 24,
   "id": "10780b30-cb55-47cd-9ad4-e5540cb7a231",
   "metadata": {},
   "outputs": [
    {
     "name": "stdout",
     "output_type": "stream",
     "text": [
      "tp must be int\n"
     ]
    }
   ],
   "source": [
    "exercise1(tp=2.1, fp=3 , fn=0)"
   ]
  },
  {
   "cell_type": "markdown",
   "id": "b1714037-7d1a-48bd-88b8-ddddfc4dcc09",
   "metadata": {},
   "source": [
    "### **I.2**"
   ]
  },
  {
   "cell_type": "code",
   "execution_count": 28,
   "id": "71153d12-b2a9-4315-bff9-a6759949861b",
   "metadata": {},
   "outputs": [],
   "source": [
    "def is_number(n):\n",
    "    try: \n",
    "        float(n)\n",
    "    except ValueError:\n",
    "        return False\n",
    "    return True"
   ]
  },
  {
   "cell_type": "code",
   "execution_count": 31,
   "id": "e87c21a8-2420-4818-8f02-b9b65814134e",
   "metadata": {},
   "outputs": [],
   "source": [
    "import math\n",
    "\n",
    "α = 0.01\n",
    "\n",
    "def exercise2() :\n",
    "    x = input('Input x = ')\n",
    "    if is_number(x) == False:\n",
    "        print('x must be a number')\n",
    "    else:\n",
    "        activation_function = input('Input activation function (sigmoid|relu|elu): ')\n",
    "        x = float(x)\n",
    "        if activation_function == 'sigmoid':\n",
    "            result = 1 / (1 + math.exp(-x))\n",
    "            print(f'sigmoid: f({x}) = ', result)\n",
    "        elif activation_function == 'relu':\n",
    "            result = max(0, x)\n",
    "            print(f'relu: f({x}) = ', result)\n",
    "        elif activation_function == 'elu':\n",
    "            result = x if x > 0 else α(math.exp(x) - 1)\n",
    "            print(f'elu: f({x} = ', result)\n",
    "        else:\n",
    "            print(f'{activation_function} is not supported')"
   ]
  },
  {
   "cell_type": "code",
   "execution_count": 32,
   "id": "e718d609-bce8-4a33-9c91-f6675b03eb83",
   "metadata": {},
   "outputs": [
    {
     "name": "stdin",
     "output_type": "stream",
     "text": [
      "Input x =  1.5\n",
      "Input activation function (sigmoid|relu|elu):  sigmoid\n"
     ]
    },
    {
     "name": "stdout",
     "output_type": "stream",
     "text": [
      "sigmoid: f(1.5) =  0.8175744761936437\n"
     ]
    }
   ],
   "source": [
    "exercise2()"
   ]
  },
  {
   "cell_type": "code",
   "execution_count": 33,
   "id": "85fabd84-5f5f-460d-a0cc-b376c6e61ec7",
   "metadata": {},
   "outputs": [
    {
     "name": "stdin",
     "output_type": "stream",
     "text": [
      "Input x =  abc\n"
     ]
    },
    {
     "name": "stdout",
     "output_type": "stream",
     "text": [
      "x must be a number\n"
     ]
    }
   ],
   "source": [
    "exercise2()"
   ]
  },
  {
   "cell_type": "code",
   "execution_count": 34,
   "id": "e38b75a5-b434-46ee-a612-29668a753473",
   "metadata": {},
   "outputs": [
    {
     "name": "stdin",
     "output_type": "stream",
     "text": [
      "Input x =  1.5\n",
      "Input activation function (sigmoid|relu|elu):  belu\n"
     ]
    },
    {
     "name": "stdout",
     "output_type": "stream",
     "text": [
      "belu is not supported\n"
     ]
    }
   ],
   "source": [
    "exercise2()"
   ]
  },
  {
   "cell_type": "markdown",
   "id": "82a09d96-ce2c-4adc-a6e5-cf3cc863caf2",
   "metadata": {},
   "source": [
    "### **I.3**"
   ]
  },
  {
   "cell_type": "code",
   "execution_count": 46,
   "id": "fb90778e-aae1-4f7c-898e-2ab48e58b774",
   "metadata": {},
   "outputs": [],
   "source": [
    "import random\n",
    "import math\n",
    "\n",
    "def exercise3():\n",
    "    num_samples = input('Input number of samples (integer number) which are generated: ')\n",
    "    if num_samples.isnumeric() == False:\n",
    "        print('number of samples must be an integer number')\n",
    "    else:\n",
    "        loss_function = input('Input loss function (mae|mse|rmse): ')\n",
    "        num_samples = int(num_samples)\n",
    "        for i in range(num_samples):\n",
    "            pred = random.uniform(0,10)\n",
    "            target = random.uniform(0,10)\n",
    "            loss = 0\n",
    "            if loss_function == 'mae':\n",
    "                loss = abs(target - pred) / num_samples\n",
    "            elif loss_function == 'mse':\n",
    "                loss = (target - pred) ** 2 / num_samples\n",
    "            elif loss_function == 'rmse':\n",
    "                loss = ((target - pred) ** 2 / num_samples) ** 0.5\n",
    "            else:\n",
    "                print(f'{loss_function} is not supported')\n",
    "                break\n",
    "            print(f'loss name: {loss_function}, sample: {i}, pred: {pred}, target: {target}, loss: {loss}')"
   ]
  },
  {
   "cell_type": "code",
   "execution_count": 48,
   "id": "a363a2cd-5224-4a9e-8836-ac3b65150aaa",
   "metadata": {},
   "outputs": [
    {
     "name": "stdin",
     "output_type": "stream",
     "text": [
      "Input number of samples (integer number) which are generated:  aa\n"
     ]
    },
    {
     "name": "stdout",
     "output_type": "stream",
     "text": [
      "number of samples must be an integer number\n"
     ]
    }
   ],
   "source": [
    "exercise3()"
   ]
  },
  {
   "cell_type": "markdown",
   "id": "f524399c-3942-458d-b619-4864661b2399",
   "metadata": {},
   "source": [
    "### **I.4**"
   ]
  },
  {
   "cell_type": "code",
   "execution_count": 58,
   "id": "2b46b681-6acd-4303-9c8f-f0855a8bcb13",
   "metadata": {},
   "outputs": [],
   "source": [
    "def factorial(n):\n",
    "    result = 1\n",
    "    for i in range(1, n+1):\n",
    "        result *= i\n",
    "    return result"
   ]
  },
  {
   "cell_type": "code",
   "execution_count": 59,
   "id": "159bdfdd-1ca2-4931-98c5-9f537806f769",
   "metadata": {},
   "outputs": [],
   "source": [
    "def approx_sin(x, n):\n",
    "    result = 0\n",
    "    if n > 0:\n",
    "        for i in range(n+1):\n",
    "            sin = (-1) ** i * ((x ** (2 * i + 1)) / factorial(2 * i + 1))\n",
    "            result += sin\n",
    "        return result  "
   ]
  },
  {
   "cell_type": "code",
   "execution_count": 61,
   "id": "f62b4f2b-d201-46be-843c-36dcc6f9ac0c",
   "metadata": {},
   "outputs": [],
   "source": [
    "def approx_cos(x, n):\n",
    "    result = 0\n",
    "    if n > 0:\n",
    "        for i in range(n+1):\n",
    "            cos = (-1) ** i * ((x ** (2 * i)) / factorial(2 * i))\n",
    "            result += cos\n",
    "        return result  "
   ]
  },
  {
   "cell_type": "code",
   "execution_count": 64,
   "id": "2a3906fd-6188-4174-9cbd-53b981f8d7f3",
   "metadata": {},
   "outputs": [],
   "source": [
    "def approx_sinh(x, n):\n",
    "    result = 0\n",
    "    if n > 0:\n",
    "        for i in range(n+1):\n",
    "            sinh = (x ** (2 * i + 1)) / factorial(2 * i + 1)\n",
    "            result += sinh\n",
    "        return result  "
   ]
  },
  {
   "cell_type": "code",
   "execution_count": 66,
   "id": "df9b74a6-8d8e-44f6-a52f-c310c8fa2aba",
   "metadata": {},
   "outputs": [],
   "source": [
    "def approx_cosh(x, n):\n",
    "    result = 0\n",
    "    if n > 0:\n",
    "        for i in range(n+1):\n",
    "            cosh = (x ** (2 * i)) / factorial(2 * i)\n",
    "            result += cosh\n",
    "        return result  "
   ]
  },
  {
   "cell_type": "code",
   "execution_count": 60,
   "id": "9cfaad1a-525c-4dc8-8bbb-ae46b38e4ef7",
   "metadata": {},
   "outputs": [
    {
     "data": {
      "text/plain": [
       "0.0015926529267151343"
      ]
     },
     "execution_count": 60,
     "metadata": {},
     "output_type": "execute_result"
    }
   ],
   "source": [
    "approx_sin(x=3.14, n=10)"
   ]
  },
  {
   "cell_type": "code",
   "execution_count": 62,
   "id": "66eb2d57-10cd-4b71-b677-1597c58ad5af",
   "metadata": {},
   "outputs": [
    {
     "data": {
      "text/plain": [
       "-0.9999987316527259"
      ]
     },
     "execution_count": 62,
     "metadata": {},
     "output_type": "execute_result"
    }
   ],
   "source": [
    "approx_cos(x=3.14, n=10)"
   ]
  },
  {
   "cell_type": "code",
   "execution_count": 65,
   "id": "bf8e982c-cdbe-456b-b4c4-ea6ff38ee147",
   "metadata": {},
   "outputs": [
    {
     "data": {
      "text/plain": [
       "11.53029203039954"
      ]
     },
     "execution_count": 65,
     "metadata": {},
     "output_type": "execute_result"
    }
   ],
   "source": [
    "approx_sinh(x=3.14, n=10)"
   ]
  },
  {
   "cell_type": "code",
   "execution_count": 67,
   "id": "87804238-25eb-4ca8-859d-c3857ef89f1f",
   "metadata": {},
   "outputs": [
    {
     "data": {
      "text/plain": [
       "11.573574828234543"
      ]
     },
     "execution_count": 67,
     "metadata": {},
     "output_type": "execute_result"
    }
   ],
   "source": [
    "approx_cosh(x=3.14, n=10)"
   ]
  },
  {
   "cell_type": "markdown",
   "id": "a10b497b-a09e-48bc-a62b-bba8580356f1",
   "metadata": {},
   "source": [
    "### **I.5**"
   ]
  },
  {
   "cell_type": "code",
   "execution_count": 68,
   "id": "69110342-c706-49cf-9043-5b208909c1ba",
   "metadata": {},
   "outputs": [],
   "source": [
    "def md_nre_single_sample(y, y_hat, n, p):\n",
    "    return (y ** (1 / n) - y_hat ** (1 / n)) ** p"
   ]
  },
  {
   "cell_type": "code",
   "execution_count": 69,
   "id": "3124ac45-bf0b-4fed-9571-93c593ef4022",
   "metadata": {},
   "outputs": [
    {
     "data": {
      "text/plain": [
       "0.025031328369998107"
      ]
     },
     "execution_count": 69,
     "metadata": {},
     "output_type": "execute_result"
    }
   ],
   "source": [
    "md_nre_single_sample(y=100, y_hat=99.5, n=2, p=1)"
   ]
  },
  {
   "cell_type": "code",
   "execution_count": 70,
   "id": "f4d163fa-4e41-47c9-9126-c3f97e5c5492",
   "metadata": {},
   "outputs": [
    {
     "data": {
      "text/plain": [
       "0.03544417213033135"
      ]
     },
     "execution_count": 70,
     "metadata": {},
     "output_type": "execute_result"
    }
   ],
   "source": [
    "md_nre_single_sample(y=50, y_hat=49.5, n=2, p=1)"
   ]
  },
  {
   "cell_type": "code",
   "execution_count": 71,
   "id": "31415fe2-8b39-4a92-a5f4-a82e005a98d3",
   "metadata": {},
   "outputs": [
    {
     "data": {
      "text/plain": [
       "0.05625552183565574"
      ]
     },
     "execution_count": 71,
     "metadata": {},
     "output_type": "execute_result"
    }
   ],
   "source": [
    "md_nre_single_sample(y=20, y_hat=19.5, n=2, p=1)"
   ]
  },
  {
   "cell_type": "code",
   "execution_count": 72,
   "id": "91705514-63f9-4541-826a-1de2c9d65d57",
   "metadata": {},
   "outputs": [
    {
     "data": {
      "text/plain": [
       "0.45836890322464546"
      ]
     },
     "execution_count": 72,
     "metadata": {},
     "output_type": "execute_result"
    }
   ],
   "source": [
    "md_nre_single_sample(y=0.6, y_hat=0.1, n=2, p=1)"
   ]
  },
  {
   "cell_type": "markdown",
   "id": "f14fbc54-2b25-4a7d-ac45-4912586899c8",
   "metadata": {},
   "source": [
    "### **II.CÂU HỎI TRẮC NGHIỆM**"
   ]
  },
  {
   "cell_type": "markdown",
   "id": "f3067030-0a5e-470a-8a9e-a2eb04fc32b0",
   "metadata": {},
   "source": [
    "### **II.1**"
   ]
  },
  {
   "cell_type": "code",
   "execution_count": 73,
   "id": "c030cf35-f25b-4b1d-888e-b69473f141f3",
   "metadata": {},
   "outputs": [
    {
     "name": "stdout",
     "output_type": "stream",
     "text": [
      "0.31\n"
     ]
    }
   ],
   "source": [
    "import math\n",
    "def calc_f1_score(tp, fp ,fn):\n",
    "    # Your code here\n",
    "    precision = tp / (tp + fp)\n",
    "    recall = tp / (tp + fn)\n",
    "    f1_score = 2 * ((precision * recall) / (precision + recall))\n",
    "    return f1_score\n",
    "    # End your code\n",
    "assert round(calc_f1_score(tp=2, fp=3, fn =5), 2) == 0.33\n",
    "print(round(calc_f1_score(tp=2, fp=4 , fn=5) , 2))"
   ]
  },
  {
   "cell_type": "markdown",
   "id": "590f6975-ddfc-49ab-89be-32374c1d7166",
   "metadata": {},
   "source": [
    "### **II.2**"
   ]
  },
  {
   "cell_type": "code",
   "execution_count": 75,
   "id": "b6d25447-76bd-4b17-b12c-a1576da084e7",
   "metadata": {},
   "outputs": [
    {
     "name": "stdout",
     "output_type": "stream",
     "text": [
      "True\n",
      "False\n"
     ]
    }
   ],
   "source": [
    "import math\n",
    "def is_number(n):\n",
    "    # Your code here\n",
    "    try:\n",
    "        float(n)\n",
    "    except ValueError:\n",
    "        return False\n",
    "    return True\n",
    "    # End your code\n",
    "assert is_number(3) == 1.0\n",
    "assert is_number('-2a') == 0.0\n",
    "print(is_number(1))\n",
    "print(is_number('n'))"
   ]
  },
  {
   "cell_type": "markdown",
   "id": "acb8a7e1-8245-4012-ba73-f6ec13c6c4e8",
   "metadata": {},
   "source": [
    "### **II.4**"
   ]
  },
  {
   "cell_type": "code",
   "execution_count": 77,
   "id": "cff198aa-ff23-4b93-8a78-2c2d80dc62e1",
   "metadata": {},
   "outputs": [
    {
     "name": "stdout",
     "output_type": "stream",
     "text": [
      "0.88\n"
     ]
    }
   ],
   "source": [
    "import math\n",
    "def calc_sig(x):\n",
    "    # Your code here\n",
    "    return 1 / (1 + math.exp(-x))\n",
    "    # End your code\n",
    "assert round(calc_sig(3), 2) == 0.95\n",
    "print(round(calc_sig(2), 2))"
   ]
  },
  {
   "cell_type": "markdown",
   "id": "a6b6ed92-782c-4ab6-9ec2-fae5468dc18e",
   "metadata": {},
   "source": [
    "### **II.5**"
   ]
  },
  {
   "cell_type": "code",
   "execution_count": 82,
   "id": "cc07c30e-4173-426a-8316-d3dcfe12053f",
   "metadata": {},
   "outputs": [
    {
     "name": "stdout",
     "output_type": "stream",
     "text": [
      "-0.01\n"
     ]
    }
   ],
   "source": [
    "import math\n",
    "def calc_elu(x):\n",
    "    # Your code here\n",
    "    alpha = 0.01\n",
    "    return x if x > 0 else alpha*(math.exp(x) - 1)\n",
    "    # End your code\n",
    "assert round(calc_elu(1)) == 1\n",
    "print(round(calc_elu(-1), 2))"
   ]
  },
  {
   "cell_type": "markdown",
   "id": "dae219be-2ade-4bdd-822c-212ef7a5f8a2",
   "metadata": {},
   "source": [
    "### **II.6**"
   ]
  },
  {
   "cell_type": "code",
   "execution_count": 83,
   "id": "cefe8e58-e5d9-4cf6-b119-f221c3a60331",
   "metadata": {},
   "outputs": [
    {
     "name": "stdout",
     "output_type": "stream",
     "text": [
      "1\n"
     ]
    }
   ],
   "source": [
    "import math\n",
    "def calc_activation_func(x, act_name):\n",
    "    # Your code here\n",
    "    if act_name == 'sigmoid':\n",
    "        return 1 / (1 + math.exp(-x))\n",
    "    elif act_name == 'relu':\n",
    "        return max(0, x)\n",
    "    elif act_name == 'elu':\n",
    "        return x if x > 0 else alpha*(math.exp(x) - 1)\n",
    "    # End your code\n",
    "assert calc_activation_func(x=1, act_name='relu') == 1\n",
    "print(round(calc_activation_func(x=3, act_name='sigmoid')))"
   ]
  },
  {
   "cell_type": "markdown",
   "id": "1bc143c0-13e9-4026-8378-05810e065702",
   "metadata": {},
   "source": [
    "### **II.7**"
   ]
  },
  {
   "cell_type": "code",
   "execution_count": 85,
   "id": "5721b7a7-a6c4-40ef-ba59-4b7b757714a1",
   "metadata": {},
   "outputs": [
    {
     "name": "stdout",
     "output_type": "stream",
     "text": [
      "7\n"
     ]
    }
   ],
   "source": [
    "def calc_ae(y , y_hat):\n",
    "    # Your code here\n",
    "    return abs(y - y_hat)\n",
    "    # End your code\n",
    "y = 1\n",
    "y_hat = 6\n",
    "assert calc_ae(y, y_hat) == 5\n",
    "y = 2\n",
    "y_hat = 9\n",
    "print(calc_ae(y, y_hat))"
   ]
  },
  {
   "cell_type": "markdown",
   "id": "ea9b996a-1132-40c2-b917-f7e34cb3a03f",
   "metadata": {},
   "source": [
    "### **II.8**"
   ]
  },
  {
   "cell_type": "code",
   "execution_count": 86,
   "id": "fba04d53-a4df-41b3-b653-f498c306206a",
   "metadata": {},
   "outputs": [
    {
     "name": "stdout",
     "output_type": "stream",
     "text": [
      "1\n"
     ]
    }
   ],
   "source": [
    "def calc_se(y , y_hat):\n",
    "    # Your code here\n",
    "    return (y - y_hat) ** 2\n",
    "    # End your code\n",
    "y = 4\n",
    "y_hat = 2\n",
    "assert calc_se(y, y_hat) == 4\n",
    "print(calc_se(2, 1))"
   ]
  },
  {
   "cell_type": "markdown",
   "id": "c23d2b18-e919-404d-a096-3df13698615d",
   "metadata": {},
   "source": [
    "### **II.9**"
   ]
  },
  {
   "cell_type": "code",
   "execution_count": 89,
   "id": "b84a6004-aadc-43f1-bbb5-bdabc348ebc4",
   "metadata": {},
   "outputs": [
    {
     "name": "stdout",
     "output_type": "stream",
     "text": [
      "-1.0\n"
     ]
    }
   ],
   "source": [
    "def approx_cos(x, n):\n",
    "    # Your code here\n",
    "    result = 0\n",
    "    if n > 0:\n",
    "        for i in range(n+1):\n",
    "            cos = (-1) ** i * ((x ** (2 * i)) / factorial(2 * i))\n",
    "            result += cos\n",
    "        return result  \n",
    "    # End your code\n",
    "assert round(approx_cos(x=1, n=10), 2)==0.54\n",
    "print(round(approx_cos(x=3.14, n=10), 2))"
   ]
  },
  {
   "cell_type": "markdown",
   "id": "46b9443a-9c88-4b13-9368-2c040f77ffc2",
   "metadata": {},
   "source": [
    "### **II.10**"
   ]
  },
  {
   "cell_type": "code",
   "execution_count": 87,
   "id": "19bd7ed0-5bbd-4731-8004-bf655e2bb1e4",
   "metadata": {},
   "outputs": [
    {
     "name": "stdout",
     "output_type": "stream",
     "text": [
      "0.0016\n"
     ]
    }
   ],
   "source": [
    "def approx_sin(x, n):\n",
    "    # Your code here\n",
    "    result = 0\n",
    "    if n > 0:\n",
    "        for i in range(n+1):\n",
    "            sin = (-1) ** i * ((x ** (2 * i + 1)) / factorial(2 * i + 1))\n",
    "            result += sin\n",
    "        return result  \n",
    "    # End your code\n",
    "assert round(approx_sin(x=1, n=10), 4)==0.8415\n",
    "print(round(approx_sin(x=3.14, n=10), 4))"
   ]
  },
  {
   "cell_type": "markdown",
   "id": "39ce309e-b858-44c8-8605-2abb6f796048",
   "metadata": {},
   "source": [
    "### **II.11**"
   ]
  },
  {
   "cell_type": "code",
   "execution_count": 90,
   "id": "dc8faab9-89b6-4164-80b8-4d3c87070a24",
   "metadata": {},
   "outputs": [
    {
     "name": "stdout",
     "output_type": "stream",
     "text": [
      "11.53\n"
     ]
    }
   ],
   "source": [
    "def approx_sinh(x, n):\n",
    "    # Your code here\n",
    "    result = 0\n",
    "    if n > 0:\n",
    "        for i in range(n+1):\n",
    "            sinh = (x ** (2 * i + 1)) / factorial(2 * i + 1)\n",
    "            result += sinh\n",
    "        return result  \n",
    "    # End your code\n",
    "assert round(approx_sinh(x=1, n=10), 2)==1.18\n",
    "print(round(approx_sinh(x=3.14, n=10), 2))"
   ]
  },
  {
   "cell_type": "markdown",
   "id": "17d3a8f5-df48-49c9-ba59-85f9b5cc74a1",
   "metadata": {},
   "source": [
    "### **II.12**"
   ]
  },
  {
   "cell_type": "code",
   "execution_count": 91,
   "id": "8e49f4cd-f1a8-4835-a823-47df67cf6d21",
   "metadata": {},
   "outputs": [
    {
     "name": "stdout",
     "output_type": "stream",
     "text": [
      "11.57\n"
     ]
    }
   ],
   "source": [
    "def approx_cosh(x, n):\n",
    "    # Your code here\n",
    "    result = 0\n",
    "    if n > 0:\n",
    "        for i in range(n+1):\n",
    "            cosh = (x ** (2 * i)) / factorial(2 * i)\n",
    "            result += cosh\n",
    "        return result \n",
    "    # End your code\n",
    "assert round(approx_cosh(x=1, n=10), 2)==1.54\n",
    "print(round(approx_cosh(x=3.14, n=10), 2))"
   ]
  }
 ],
 "metadata": {
  "kernelspec": {
   "display_name": "Python 3 (ipykernel)",
   "language": "python",
   "name": "python3"
  },
  "language_info": {
   "codemirror_mode": {
    "name": "ipython",
    "version": 3
   },
   "file_extension": ".py",
   "mimetype": "text/x-python",
   "name": "python",
   "nbconvert_exporter": "python",
   "pygments_lexer": "ipython3",
   "version": "3.11.7"
  }
 },
 "nbformat": 4,
 "nbformat_minor": 5
}
